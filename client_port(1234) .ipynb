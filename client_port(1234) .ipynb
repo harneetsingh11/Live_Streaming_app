{
 "cells": [
  {
   "cell_type": "code",
   "execution_count": null,
   "metadata": {},
   "outputs": [],
   "source": [
    "import cv2\n",
    "import numpy as np\n",
    "import socket\n",
    "import time\n",
    "import threading"
   ]
  },
  {
   "cell_type": "code",
   "execution_count": null,
   "metadata": {},
   "outputs": [],
   "source": [
    "def send_d():\n",
    "    s = socket.socket(socket.AF_INET,socket.SOCK_STREAM)\n",
    "    s.connect((\"127.0.0.1\",2345))\n",
    "    s.send(b\"connection established , port_no = 2345\")\n",
    "    cap = cv2.VideoCapture(0)\n",
    "    print(\"Live streaming started \")\n",
    "    while True:\n",
    "        capture,photo= cap.read()\n",
    "        if capture:\n",
    "            photo = cv2.resize(photo,(600,500))\n",
    "            s.send(np.ndarray.tobytes(photo))\n",
    "        else:\n",
    "            print(\"No image to send\")\n",
    "        \n",
    "def recv_d():\n",
    "    r = socket.socket(socket.AF_INET,socket.SOCK_STREAM)\n",
    "    r.bind((\"127.0.0.1\",1234))\n",
    "    r.listen()\n",
    "    sess,add = r.accept()\n",
    "    print(sess.recv(1024))\n",
    "    print(\"Live streaming started \")\n",
    "    while True:\n",
    "        data_r = sess.recv(100000000)\n",
    "        image_r = np.frombuffer(data_r , np.uint8)\n",
    "        if len(image_r) == 600*500*3:\n",
    "            cv2.imshow(\"live streaming\",image_r.reshape(500,600,3))\n",
    "            if cv2.waitKey(10) == 13:\n",
    "                cv2.destroyAllWindows()\n",
    "                break\n",
    "        else:\n",
    "            print(\"frame lost\")\n",
    "\n",
    "send_t = threading.Thread(target = send_d).start()\n",
    "recv_t = threading.Thread(target = recv_d).start()\n"
   ]
  }
 ],
 "metadata": {
  "kernelspec": {
   "display_name": "Python 3",
   "language": "python",
   "name": "python3"
  },
  "language_info": {
   "codemirror_mode": {
    "name": "ipython",
    "version": 3
   },
   "file_extension": ".py",
   "mimetype": "text/x-python",
   "name": "python",
   "nbconvert_exporter": "python",
   "pygments_lexer": "ipython3",
   "version": "3.7.3"
  }
 },
 "nbformat": 4,
 "nbformat_minor": 2
}
